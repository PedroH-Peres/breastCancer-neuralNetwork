{
 "cells": [
  {
   "cell_type": "code",
   "execution_count": 1,
   "id": "a5e7d16b-3255-48c5-9a16-e1dbba06d3dc",
   "metadata": {},
   "outputs": [],
   "source": [
    "import pandas as pd\n",
    "import tensorflow as tf\n",
    "import sklearn\n",
    "import scikeras"
   ]
  },
  {
   "cell_type": "code",
   "execution_count": 5,
   "id": "4f7b7473-7075-4332-8eba-048ec1fbad47",
   "metadata": {},
   "outputs": [],
   "source": [
    "from scikeras.wrappers import KerasClassifier\n",
    "from tensorflow.keras import backend as k\n",
    "from tensorflow.keras.models import Sequential\n",
    "from sklearn.model_selection import GridSearchCV"
   ]
  },
  {
   "cell_type": "code",
   "execution_count": 4,
   "id": "b60ec928-949a-449e-839f-591e3e17c202",
   "metadata": {},
   "outputs": [],
   "source": [
    "X = pd.read_csv('data/entradas_breast.csv')\n",
    "y = pd.read_csv('data/saidas_breast.csv')"
   ]
  },
  {
   "cell_type": "code",
   "execution_count": 8,
   "id": "25b8006b-57ae-470e-92e0-0948f17a621e",
   "metadata": {},
   "outputs": [],
   "source": [
    "def create_network(optimizer, loss, kernel_initializer, activation, neurons):\n",
    "    k.clear_session()\n",
    "    neural_network = Sequential(\n",
    "        [\n",
    "            tf.keras.layers.InputLayer(shape = (30,)),\n",
    "            tf.keras.layers.Dense(units = neurons, activation = activation, kernel_initializer = kernel_initializer),\n",
    "            tf.keras.layers.Dropout(rate = 0.2),\n",
    "            tf.keras.layers.Dense(units = neurons, activation = activation, kernel_initializer = kernel_initializer),\n",
    "            tf.keras.layers.Dropout(rate = 0.2),\n",
    "            tf.keras.layers.Dense(units = 1, activation = 'sigmoid')   \n",
    "        ]\n",
    "    )\n",
    "    \n",
    "    neural_network.compile(optimizer=optimizer, loss = loss, metrics = ['binary_accuracy'])\n",
    "    return neural_network"
   ]
  },
  {
   "cell_type": "code",
   "execution_count": 10,
   "id": "395a2aa3-2d81-4b28-a6a9-289bee4093c7",
   "metadata": {},
   "outputs": [],
   "source": [
    "neural_network = KerasClassifier(model=create_network)"
   ]
  },
  {
   "cell_type": "code",
   "execution_count": 20,
   "id": "bf97d130-a319-41e3-b9ff-af53c8c4a3f8",
   "metadata": {},
   "outputs": [],
   "source": [
    "parameters = {\n",
    "    'batch_size': [10, 30],\n",
    "    'epochs': [50, 100],\n",
    "    'model__optimizer': ['adam', 'sgd'],\n",
    "    'model__loss': ['binary_crossentropy', 'hinge'],\n",
    "    'model__kernel_initializer': ['random_uniform', 'normal'],\n",
    "    'model__activation': ['relu', 'tanh'],\n",
    "    'model__neurons': [16, 8]\n",
    "}"
   ]
  },
  {
   "cell_type": "code",
   "execution_count": 21,
   "id": "4c34e0e8-b435-499b-bd4b-db80c44c1076",
   "metadata": {},
   "outputs": [],
   "source": [
    "parameters = {\n",
    "    'batch_size': [10, 30],\n",
    "    'epochs': [50],\n",
    "    'model__optimizer': ['adam'],\n",
    "    'model__loss': ['binary_crossentropy'],\n",
    "    'model__kernel_initializer': ['random_uniform', 'normal'],\n",
    "    'model__activation': ['relu', 'tanh'],\n",
    "    'model__neurons': [16, 8]\n",
    "}"
   ]
  },
  {
   "cell_type": "code",
   "execution_count": 18,
   "id": "21fc5dbf-36a0-4bc7-9d5c-a20e73953b0a",
   "metadata": {},
   "outputs": [
    {
     "data": {
      "text/plain": [
       "64"
      ]
     },
     "execution_count": 18,
     "metadata": {},
     "output_type": "execute_result"
    }
   ],
   "source": [
    "2 * 1 * 1 * 1 * 2 * 2 * 2 * 4 #Tests"
   ]
  },
  {
   "cell_type": "code",
   "execution_count": 23,
   "id": "623c16a0-958c-47d5-bfd2-265eaa62763e",
   "metadata": {},
   "outputs": [],
   "source": [
    "grid_search = GridSearchCV(estimator = neural_network, param_grid = parameters, scoring = 'accuracy',\n",
    "                          cv = 4)"
   ]
  },
  {
   "cell_type": "code",
   "execution_count": null,
   "id": "77bebc74-9937-4b45-96ca-0a66899c002e",
   "metadata": {
    "scrolled": true
   },
   "outputs": [],
   "source": [
    "# Outputs Cleared for better view\n",
    "grid_search = grid_search.fit(X, y)"
   ]
  },
  {
   "cell_type": "code",
   "execution_count": 26,
   "id": "85150980-ef79-49fc-b3f0-4eafa16c85f0",
   "metadata": {},
   "outputs": [],
   "source": [
    "best_parameters = grid_search.best_params_\n",
    "best_score = grid_search.best_score_"
   ]
  },
  {
   "cell_type": "code",
   "execution_count": 27,
   "id": "f0673e41-e52a-409e-bd1d-95cb027808c8",
   "metadata": {},
   "outputs": [
    {
     "name": "stdout",
     "output_type": "stream",
     "text": [
      "{'batch_size': 10, 'epochs': 50, 'model__activation': 'relu', 'model__kernel_initializer': 'random_uniform', 'model__loss': 'binary_crossentropy', 'model__neurons': 16, 'model__optimizer': 'adam'}\n"
     ]
    }
   ],
   "source": [
    "print(best_parameters)"
   ]
  },
  {
   "cell_type": "code",
   "execution_count": 28,
   "id": "8c19541b-090e-4ff1-9c68-dead44576270",
   "metadata": {},
   "outputs": [
    {
     "name": "stdout",
     "output_type": "stream",
     "text": [
      "0.8893307396828524\n"
     ]
    }
   ],
   "source": [
    "print(best_score)"
   ]
  }
 ],
 "metadata": {
  "kernelspec": {
   "display_name": "Python 3 (ipykernel)",
   "language": "python",
   "name": "python3"
  },
  "language_info": {
   "codemirror_mode": {
    "name": "ipython",
    "version": 3
   },
   "file_extension": ".py",
   "mimetype": "text/x-python",
   "name": "python",
   "nbconvert_exporter": "python",
   "pygments_lexer": "ipython3",
   "version": "3.11.9"
  }
 },
 "nbformat": 4,
 "nbformat_minor": 5
}
