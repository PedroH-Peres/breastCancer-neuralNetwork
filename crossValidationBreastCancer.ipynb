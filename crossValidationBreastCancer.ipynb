{
 "cells": [
  {
   "cell_type": "code",
   "execution_count": 1,
   "id": "5f6e86bf-8868-4bee-bf22-0924b10ee167",
   "metadata": {},
   "outputs": [],
   "source": [
    "import pandas as pd\n",
    "import tensorflow as tf\n",
    "import sklearn\n",
    "import scikeras"
   ]
  },
  {
   "cell_type": "code",
   "execution_count": 2,
   "id": "d6e65b00-859e-4e42-9aca-75e29d9d23aa",
   "metadata": {},
   "outputs": [],
   "source": [
    "from scikeras.wrappers import KerasClassifier\n",
    "from sklearn.model_selection import cross_val_score\n",
    "from tensorflow.keras.models import Sequential\n",
    "from tensorflow.keras import backend as k"
   ]
  },
  {
   "cell_type": "code",
   "execution_count": 3,
   "id": "028e665e-d615-43c6-8f03-87bcc676d73b",
   "metadata": {},
   "outputs": [],
   "source": [
    "X = pd.read_csv('data/entradas_breast.csv')\n",
    "Y = pd.read_csv('data/saidas_breast.csv')"
   ]
  },
  {
   "cell_type": "code",
   "execution_count": 6,
   "id": "b0125dff-65bd-4958-8fb1-29de38a9b779",
   "metadata": {},
   "outputs": [],
   "source": [
    "def create_network():\n",
    "    k.clear_session()\n",
    "    neural_network = Sequential(\n",
    "        [\n",
    "            tf.keras.layers.InputLayer(shape = (30,)),\n",
    "            tf.keras.layers.Dense(units = 16, activation = 'relu', kernel_initializer = 'random_uniform'),\n",
    "            tf.keras.layers.Dropout(rate = 0.2),\n",
    "            tf.keras.layers.Dense(units = 16, activation = 'relu', kernel_initializer = 'random_uniform'),\n",
    "            tf.keras.layers.Dropout(rate = 0.2),\n",
    "            tf.keras.layers.Dense(units = 1, activation = 'sigmoid')   \n",
    "        ]\n",
    "    )\n",
    "    optim = tf.keras.optimizers.Adam(learning_rate=0.001, clipvalue=0.5)\n",
    "    neural_network.compile(optimizer=optim, loss = 'binary_crossentropy', metrics = ['binary_accuracy'])\n",
    "    return neural_network"
   ]
  },
  {
   "cell_type": "code",
   "execution_count": 7,
   "id": "fed92997-0bd7-42c5-8136-571e2e1eddf6",
   "metadata": {},
   "outputs": [],
   "source": [
    "neural_network = KerasClassifier(model = create_network, epochs = 75, batch_size=10)"
   ]
  },
  {
   "cell_type": "code",
   "execution_count": null,
   "id": "84d30153-5ba6-439e-8f6e-71f06c0c1d99",
   "metadata": {
    "scrolled": true
   },
   "outputs": [],
   "source": [
    "# Output cleared for better view\n",
    "results = cross_val_score(estimator = neural_network, X = X, y = Y, cv = 4, scoring='accuracy')"
   ]
  },
  {
   "cell_type": "code",
   "execution_count": 11,
   "id": "a05b1bee-2f91-4907-8ed6-0f8dd56dff61",
   "metadata": {},
   "outputs": [
    {
     "data": {
      "text/plain": [
       "array([0.86013986, 0.82394366, 0.90140845, 0.87323944])"
      ]
     },
     "execution_count": 11,
     "metadata": {},
     "output_type": "execute_result"
    }
   ],
   "source": [
    "# Com Drop Out\n",
    "results"
   ]
  },
  {
   "cell_type": "code",
   "execution_count": 12,
   "id": "2f8f6311-efca-4d75-a708-0188c3b00b34",
   "metadata": {},
   "outputs": [
    {
     "data": {
      "text/plain": [
       "0.8646828523589087"
      ]
     },
     "execution_count": 12,
     "metadata": {},
     "output_type": "execute_result"
    }
   ],
   "source": [
    "# Drop Out\n",
    "results.mean()"
   ]
  },
  {
   "cell_type": "code",
   "execution_count": 24,
   "id": "a16fd23a-a482-4bb1-8dff-34cda163f6eb",
   "metadata": {},
   "outputs": [
    {
     "data": {
      "text/plain": [
       "array([0.72727273, 0.83098592, 0.75352113, 0.85211268])"
      ]
     },
     "execution_count": 24,
     "metadata": {},
     "output_type": "execute_result"
    }
   ],
   "source": [
    "# Sem Drop Out\n",
    "results"
   ]
  },
  {
   "cell_type": "code",
   "execution_count": 25,
   "id": "4a95fa92-3973-4df8-9628-bac1dbb36d03",
   "metadata": {},
   "outputs": [
    {
     "data": {
      "text/plain": [
       "0.7909731113956466"
      ]
     },
     "execution_count": 25,
     "metadata": {},
     "output_type": "execute_result"
    }
   ],
   "source": [
    "results.mean()"
   ]
  },
  {
   "cell_type": "code",
   "execution_count": 26,
   "id": "ee788a68-5aa8-4adf-9509-6578980edf9e",
   "metadata": {},
   "outputs": [
    {
     "data": {
      "text/plain": [
       "0.05196022745606163"
      ]
     },
     "execution_count": 26,
     "metadata": {},
     "output_type": "execute_result"
    }
   ],
   "source": [
    "results.std()"
   ]
  }
 ],
 "metadata": {
  "kernelspec": {
   "display_name": "Python 3 (ipykernel)",
   "language": "python",
   "name": "python3"
  },
  "language_info": {
   "codemirror_mode": {
    "name": "ipython",
    "version": 3
   },
   "file_extension": ".py",
   "mimetype": "text/x-python",
   "name": "python",
   "nbconvert_exporter": "python",
   "pygments_lexer": "ipython3",
   "version": "3.11.9"
  }
 },
 "nbformat": 4,
 "nbformat_minor": 5
}
